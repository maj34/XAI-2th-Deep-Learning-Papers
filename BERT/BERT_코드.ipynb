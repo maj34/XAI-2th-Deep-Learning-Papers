{
 "cells": [
  {
   "cell_type": "markdown",
   "id": "8ac002f4",
   "metadata": {},
   "source": [
    "문장의 일부 단어를 맞추게 하는 task로 pre-training을 시킨다.  \n",
    "`GPT`에서는 __< SOS >__ 를 보고 | 를 맞추고, |를 보고 study를 맞췄다. 즉, 전 후 문맥을 안보고 앞의 단어만을 보고 다음 단어를 예측했다. BERT는 앞 뒤 문맥을 다 고려하도록 양방향을 고려한다.  \n",
    "\n",
    "Masked Language Model(MLM) 을 pre-training에 사용  \n",
    "* 문장에 빈 칸이 있으면 왼쪽과 오른쪽 정보를 다 이해하여 유추한다는 Bidirerctional 개념을 사용  \n",
    "* I study math 라는 문장을 일정 확률로 각 단어를 빈칸으로 만들어 예측  \n",
    "* k% 확률로 입력 단어 masking, masking된 단어를 예측  \n",
    "    * 비율을 높이면 해당하는 mask를 마주는 정보가 부족해서 문제 발생  \n",
    "    * 비율을 낮추면 효율이 떨어지거나 학습이 느려짐  \n",
    "    * 가장 적절한 k = 15  \n",
    "* 문제점 : mask token은 fine-tuning 하는 동안에는 볼 수 없음. pre-training 할 때 생기는 단어간의 관계(mask를 고려하는)가 실제 문제(classification 등) 에서는 나타나지 않기 때문에 문제가 됨.  \n",
    "* 해결책  \n",
    "    * 15% 단어를 맞추되, 100% 확률로 Mask 로 치환시키지 않음  \n",
    "    * 80%는 mask로 변환, 10%는 랜덤 단어로 치환, 10%는 원래 단어 그대로 놔둠  \n",
    "   \n",
    "* Pre-training Task in BERT : Next Sentence Predicion (문장간 관계를 학습하는 방법 제시)  \n",
    "    * 두 개의 문장을 가져와서 각 문장 뒤에 [SEP]를 붙이고 합쳐줌  \n",
    "    * 첫 문장의 앞에는 [CLS] 라는 다수의 문장에서 예측을 담당하는 tokne을 붙임(Classification task에서는 사용되지만, 그렇지 않을 경우엔 무시)   \n",
    "    * 라벨 없는 입력 데이터만으로 예측하도록 학습  \n",
    "    * 첫 문장 뒤에 두 번째 문장이 나오는게 적절한지 아닌지를 파악  \n",
    "    * 맞으면 IsNext label, 아니면 NotNext label 할당  \n",
    "    * 문장간 관계를 이해하기 위해 A 문장을 수행해서 나오는 B 문장이 나와야하는지 예측"
   ]
  },
  {
   "cell_type": "code",
   "execution_count": 4,
   "id": "610eb499",
   "metadata": {},
   "outputs": [],
   "source": [
    "# %%\n",
    "# code by Tae Hwan Jung(Jeff Jung) @graykode\n",
    "# Reference : https://github.com/jadore801120/attention-is-all-you-need-pytorch\n",
    "#           https://github.com/JayParks/transformer, https://github.com/dhlee347/pytorchic-bert\n",
    "import math\n",
    "import re\n",
    "from random import *\n",
    "import numpy as np\n",
    "import torch\n",
    "import torch.nn as nn\n",
    "import torch.optim as optim"
   ]
  },
  {
   "cell_type": "code",
   "execution_count": 100,
   "id": "dc307247",
   "metadata": {},
   "outputs": [],
   "source": [
    "# sample IsNext and NotNext to be same in small batch size\n",
    "def make_batch():\n",
    "    batch = []\n",
    "    positive = negative = 0\n",
    "    while positive != batch_size/2 or negative != batch_size/2:\n",
    "        tokens_a_index, tokens_b_index= randrange(len(sentences)), randrange(len(sentences)) # 문장 길이 범위내 랜덤 index 설정\n",
    "        tokens_a, tokens_b= token_list[tokens_a_index], token_list[tokens_b_index] # 입력 문장의 token 중 index로 뽑아내기\n",
    "        input_ids = [word_dict['[CLS]']] + tokens_a + [word_dict['[SEP]']] + tokens_b + [word_dict['[SEP]']] # word_dict = PAD + CLS + SEP +  MASK + token\n",
    "        segment_ids = [0] * (1 + len(tokens_a) + 1) + [1] * (len(tokens_b) + 1) # 0 or1\n",
    "        # token_a : CLS + tokens_a + SEP\n",
    "        # token_b : tokens_b + SEP \n",
    "\n",
    "        # MASK LM\n",
    "        # The training data generator chooses 15% of the token positions at random for prediction\n",
    "        # 훈련 데이터 생성기는 예측을 위해 토큰 위치의 15%를 무작위로 선택합니다\n",
    "        n_pred =  min(max_pred, max(1, int(round(len(input_ids) * 0.15)))) # 전체 중 15%만 맞출거야!\n",
    "        cand_maked_pos = [i for i, token in enumerate(input_ids)\n",
    "                          if token != word_dict['[CLS]'] and token != word_dict['[SEP]']] # input_ids 중 CLS와 SEP token이 아닌 token의 index\n",
    "        shuffle(cand_maked_pos) # shuffle -> 뒤에 랜덤한 15%를 mask하기 위해 사전에 shuffle\n",
    "        masked_tokens, masked_pos = [], []\n",
    "        for pos in cand_maked_pos[:n_pred]: # 15%의 mask 중 -> 사전에 shuffle을 했기 때문에 [:n_pred] = 15% random 추출\n",
    "            masked_pos.append(pos) # masking 할 token의 index\n",
    "            masked_tokens.append(input_ids[pos]) # masking 할 token\n",
    "            if random() < 0.8:  # 80%\n",
    "                input_ids[pos] = word_dict['[MASK]'] # make mask\n",
    "            elif random() < 0.5:  # 10%\n",
    "                index = randint(0, vocab_size - 1) # random index in vocabulary\n",
    "                input_ids[pos] = word_dict[number_dict[index]] # replace\n",
    "\n",
    "        # Zero Paddings -> max_len 사이즈로 zero_padding\n",
    "        n_pad = maxlen - len(input_ids)\n",
    "        input_ids.extend([0] * n_pad)\n",
    "        segment_ids.extend([0] * n_pad)\n",
    "\n",
    "        # Zero Padding (100% - 15%) tokens -> max_pred size 만큼 mask_tokens을 zero_padding\n",
    "        if max_pred > n_pred:\n",
    "            n_pad = max_pred - n_pred\n",
    "            masked_tokens.extend([0] * n_pad)\n",
    "            masked_pos.extend([0] * n_pad)\n",
    "\n",
    "        if tokens_a_index + 1 == tokens_b_index and positive < batch_size/2: # 위에서 랜덤하게 뽑은 두 문장이 연결되는 문장이고 positive가 batch_size/2라면\n",
    "            batch.append([input_ids, segment_ids, masked_tokens, masked_pos, True]) # IsNext\n",
    "            positive += 1\n",
    "        elif tokens_a_index + 1 != tokens_b_index and negative < batch_size/2: # 두 문장이 연결되는 문장이 아니라면\n",
    "            batch.append([input_ids, segment_ids, masked_tokens, masked_pos, False]) # NotNext\n",
    "            negative += 1\n",
    "    return batch\n",
    "# Proprecessing Finished"
   ]
  },
  {
   "cell_type": "markdown",
   "id": "710a475a",
   "metadata": {},
   "source": [
    "___"
   ]
  },
  {
   "cell_type": "code",
   "execution_count": 101,
   "id": "53965362",
   "metadata": {},
   "outputs": [],
   "source": [
    "def get_attn_pad_mask(seq_q, seq_k): # Attention을 구할 때 Padding 부분을 제외하기 위한 Mask\n",
    "                                     # Padding = False, Tokens = True\n",
    "    batch_size, len_q = seq_q.size()\n",
    "    batch_size, len_k = seq_k.size()\n",
    "    # eq(zero) is PAD token\n",
    "    pad_attn_mask = seq_k.data.eq(0).unsqueeze(1)  # batch_size x 1 x len_k(=len_q), one is masking\n",
    "    return pad_attn_mask.expand(batch_size, len_q, len_k)  # batch_size x len_q x len_k"
   ]
  },
  {
   "cell_type": "code",
   "execution_count": 102,
   "id": "1adb2eff",
   "metadata": {},
   "outputs": [],
   "source": [
    "input_ids, segment_ids, masked_tokens, masked_pos, isNext = map(torch.LongTensor, zip(*batch))"
   ]
  },
  {
   "cell_type": "code",
   "execution_count": 103,
   "id": "bf56315f",
   "metadata": {},
   "outputs": [
    {
     "data": {
      "text/plain": [
       "tensor([False, False, False, False, False, False, False, False, False, False,\n",
       "        False, False, False, False,  True,  True,  True,  True,  True,  True,\n",
       "         True,  True,  True,  True,  True,  True,  True,  True,  True,  True])"
      ]
     },
     "execution_count": 103,
     "metadata": {},
     "output_type": "execute_result"
    }
   ],
   "source": [
    "get_attn_pad_mask(input_ids, input_ids)[0][0] # True = 14, False(zero padding) = 16"
   ]
  },
  {
   "cell_type": "markdown",
   "id": "d477dd2c",
   "metadata": {},
   "source": [
    "___"
   ]
  },
  {
   "cell_type": "code",
   "execution_count": 104,
   "id": "493e461e",
   "metadata": {},
   "outputs": [],
   "source": [
    "def gelu(x):\n",
    "    \"Implementation of the gelu activation function by Hugging Face\"\n",
    "    return x * 0.5 * (1.0 + torch.erf(x / math.sqrt(2.0)))"
   ]
  },
  {
   "cell_type": "markdown",
   "id": "c1292eb7",
   "metadata": {},
   "source": [
    "___"
   ]
  },
  {
   "cell_type": "code",
   "execution_count": 105,
   "id": "44598536",
   "metadata": {},
   "outputs": [],
   "source": [
    "class Embedding(nn.Module):\n",
    "    def __init__(self):\n",
    "        super(Embedding, self).__init__()\n",
    "        self.tok_embed = nn.Embedding(vocab_size, d_model)  # token 값 자체 embedding\n",
    "        self.pos_embed = nn.Embedding(maxlen, d_model)  # token 고유 위치 값mbedding\n",
    "        self.seg_embed = nn.Embedding(n_segments, d_model)  # token이 어느 문장에 있었는지에 대한 정보 값 embedding\n",
    "        self.norm = nn.LayerNorm(d_model)\n",
    "\n",
    "    def forward(self, x, seg):\n",
    "        seq_len = x.size(1) # padding을 포함한 문장의 길이 = max_len\n",
    "        pos = torch.arange(seq_len, dtype=torch.long) # np.range와 동일 -> tensor화\n",
    "        pos = pos.unsqueeze(0).expand_as(x)  # (seq_len,) -> (batch_size, seq_len)\n",
    "        embedding = self.tok_embed(x) + self.pos_embed(pos) + self.seg_embed(seg)\n",
    "        return self.norm(embedding)"
   ]
  },
  {
   "cell_type": "code",
   "execution_count": 106,
   "id": "48adcedf",
   "metadata": {},
   "outputs": [
    {
     "data": {
      "text/plain": [
       "torch.Size([6, 30])"
      ]
     },
     "execution_count": 106,
     "metadata": {},
     "output_type": "execute_result"
    }
   ],
   "source": [
    "input_ids.size()"
   ]
  },
  {
   "cell_type": "code",
   "execution_count": 107,
   "id": "52f4785b",
   "metadata": {},
   "outputs": [
    {
     "data": {
      "text/plain": [
       "tensor([ 0,  1,  2,  3,  4,  5,  6,  7,  8,  9, 10, 11, 12, 13, 14, 15, 16, 17,\n",
       "        18, 19, 20, 21, 22, 23, 24, 25, 26, 27, 28, 29])"
      ]
     },
     "execution_count": 107,
     "metadata": {},
     "output_type": "execute_result"
    }
   ],
   "source": [
    "torch.arange(30, dtype=torch.long)"
   ]
  },
  {
   "cell_type": "markdown",
   "id": "d3905afb",
   "metadata": {},
   "source": [
    "___"
   ]
  },
  {
   "cell_type": "code",
   "execution_count": 108,
   "id": "76775a22",
   "metadata": {},
   "outputs": [],
   "source": [
    "class ScaledDotProductAttention(nn.Module):\n",
    "    def __init__(self):\n",
    "        super(ScaledDotProductAttention, self).__init__()\n",
    "\n",
    "    def forward(self, Q, K, V, attn_mask):\n",
    "        scores = torch.matmul(Q, K.transpose(-1, -2)) / np.sqrt(d_k) # scores : [batch_size x n_heads x len_q(=len_k) x len_k(=len_q)]\n",
    "        scores.masked_fill_(attn_mask, -1e9) # Fills elements of self tensor with value where mask is one.\n",
    "        attn = nn.Softmax(dim=-1)(scores)\n",
    "        context = torch.matmul(attn, V)\n",
    "        return context, attn"
   ]
  },
  {
   "cell_type": "code",
   "execution_count": 109,
   "id": "015eeb6c",
   "metadata": {},
   "outputs": [],
   "source": [
    "class MultiHeadAttention(nn.Module): # MH-Self Attention + Add & Norm\n",
    "    def __init__(self):\n",
    "        super(MultiHeadAttention, self).__init__()\n",
    "        self.W_Q = nn.Linear(d_model, d_k * n_heads)\n",
    "        self.W_K = nn.Linear(d_model, d_k * n_heads)\n",
    "        self.W_V = nn.Linear(d_model, d_v * n_heads)\n",
    "    def forward(self, Q, K, V, attn_mask):\n",
    "        # q: [batch_size x len_q x d_model], k: [batch_size x len_k x d_model], v: [batch_size x len_k x d_model]\n",
    "        residual, batch_size = Q, Q.size(0)\n",
    "        # (B, S, D) -proj-> (B, S, D) -split-> (B, S, H, W) -trans-> (B, H, S, W)\n",
    "        q_s = self.W_Q(Q).view(batch_size, -1, n_heads, d_k).transpose(1,2)  # q_s: [batch_size x n_heads x len_q x d_k]\n",
    "        k_s = self.W_K(K).view(batch_size, -1, n_heads, d_k).transpose(1,2)  # k_s: [batch_size x n_heads x len_k x d_k]\n",
    "        v_s = self.W_V(V).view(batch_size, -1, n_heads, d_v).transpose(1,2)  # v_s: [batch_size x n_heads x len_k x d_v]\n",
    "\n",
    "        attn_mask = attn_mask.unsqueeze(1).repeat(1, n_heads, 1, 1) # attn_mask : [batch_size x n_heads x len_q x len_k]\n",
    "\n",
    "        # context: [batch_size x n_heads x len_q x d_v], attn: [batch_size x n_heads x len_q(=len_k) x len_k(=len_q)]\n",
    "        context, attn = ScaledDotProductAttention()(q_s, k_s, v_s, attn_mask)\n",
    "        context = context.transpose(1, 2).contiguous().view(batch_size, -1, n_heads * d_v) # context: [batch_size x len_q x n_heads * d_v]\n",
    "        output = nn.Linear(n_heads * d_v, d_model)(context)\n",
    "        return nn.LayerNorm(d_model)(output + residual), attn # output: [batch_size x len_q x d_model]"
   ]
  },
  {
   "cell_type": "code",
   "execution_count": 110,
   "id": "a8d01c49",
   "metadata": {},
   "outputs": [],
   "source": [
    "class PoswiseFeedForwardNet(nn.Module): # FFNN\n",
    "    def __init__(self):\n",
    "        super(PoswiseFeedForwardNet, self).__init__()\n",
    "        self.fc1 = nn.Linear(d_model, d_ff) # (768 * (768 * 4))\n",
    "        self.fc2 = nn.Linear(d_ff, d_model) # ((768 * 4) * 768)\n",
    "\n",
    "    def forward(self, x):\n",
    "        # (batch_size, len_seq, d_model) -> (batch_size, len_seq, d_ff) -> (batch_size, len_seq, d_model)\n",
    "        return self.fc2(gelu(self.fc1(x)))"
   ]
  },
  {
   "cell_type": "markdown",
   "id": "21662ef6",
   "metadata": {},
   "source": [
    "Encoder  \n",
    "1. Mutli-head Self-Attention  \n",
    "2. Add & Norm  \n",
    "3. FFNN(Feed Forward Neural Network)  \n",
    "4. Add & Norm"
   ]
  },
  {
   "cell_type": "code",
   "execution_count": 111,
   "id": "3df36071",
   "metadata": {},
   "outputs": [],
   "source": [
    "class EncoderLayer(nn.Module):\n",
    "    def __init__(self):\n",
    "        super(EncoderLayer, self).__init__()\n",
    "        self.enc_self_attn = MultiHeadAttention()\n",
    "        self.pos_ffn = PoswiseFeedForwardNet()\n",
    "\n",
    "    def forward(self, enc_inputs, enc_self_attn_mask):\n",
    "        enc_outputs, attn = self.enc_self_attn(enc_inputs, enc_inputs, enc_inputs, enc_self_attn_mask) # enc_inputs to same Q,K,V\n",
    "        enc_outputs = self.pos_ffn(enc_outputs) # enc_outputs: [batch_size x len_q x d_model]\n",
    "        return enc_outputs, attn"
   ]
  },
  {
   "cell_type": "code",
   "execution_count": 125,
   "id": "c448e51f",
   "metadata": {},
   "outputs": [],
   "source": [
    "class BERT(nn.Module):\n",
    "    def __init__(self):\n",
    "        super(BERT, self).__init__()\n",
    "        self.embedding = Embedding() # tok_embedding + pos_embedding + seg_embedding\n",
    "        self.layers = nn.ModuleList([EncoderLayer() for _ in range(n_layers)]) # Multihead Attention * 6\n",
    "        self.fc = nn.Linear(d_model, d_model) # FC Layer (768 * 768) # Embedding Size\n",
    "        self.activ1 = nn.Tanh()\n",
    "        self.linear = nn.Linear(d_model, d_model)\n",
    "        self.activ2 = gelu\n",
    "        self.norm = nn.LayerNorm(d_model)\n",
    "        self.classifier = nn.Linear(d_model, 2) # output = 2\n",
    "        # decoder is shared with embedding layer\n",
    "        embed_weight = self.embedding.tok_embed.weight\n",
    "        n_vocab, n_dim = embed_weight.size()\n",
    "        self.decoder = nn.Linear(n_dim, n_vocab, bias=False)\n",
    "        self.decoder.weight = embed_weight\n",
    "        self.decoder_bias = nn.Parameter(torch.zeros(n_vocab))\n",
    "\n",
    "    def forward(self, input_ids, segment_ids, masked_pos):\n",
    "        output = self.embedding(input_ids, segment_ids) # embedding layer\n",
    "        enc_self_attn_mask = get_attn_pad_mask(input_ids, input_ids) # Attention을 구할 때 Padding 부분을 제외하기 위한 Mask\n",
    "        for layer in self.layers: # # Multihead Attention * 6\n",
    "            output, enc_self_attn = layer(output, enc_self_attn_mask) \n",
    "        # output : [batch_size, len, d_model], attn : [batch_size, n_heads, d_mode, d_model]\n",
    "        # it will be decided by first token(CLS)\n",
    "        h_pooled = self.activ1(self.fc(output[:, 0])) # [batch_size, d_model] # tanh\n",
    "        logits_clsf = self.classifier(h_pooled) # [batch_size, 2] \n",
    "\n",
    "        # get masked position from final output of transformer.\n",
    "        masked_pos = masked_pos[:, :, None].expand(-1, -1, output.size(-1)) # [batch_size, max_pred, d_model]\n",
    "        \n",
    "        h_masked = torch.gather(output, 1, masked_pos) # masking position [batch_size, max_pred, d_model]\n",
    "        h_masked = self.norm(self.activ2(self.linear(h_masked)))\n",
    "        logits_lm = self.decoder(h_masked) + self.decoder_bias # [batch_size, max_pred, n_vocab]\n",
    "\n",
    "        return logits_lm, logits_clsf"
   ]
  },
  {
   "cell_type": "code",
   "execution_count": 189,
   "id": "9f4dfa01",
   "metadata": {},
   "outputs": [],
   "source": [
    "embedding = Embedding()"
   ]
  },
  {
   "cell_type": "code",
   "execution_count": 195,
   "id": "543231a9",
   "metadata": {
    "scrolled": true
   },
   "outputs": [
    {
     "data": {
      "text/plain": [
       "(tensor([[ 1, 22,  3,  5,  2, 21,  3, 12, 17, 26, 20, 12, 25,  2,  0,  0,  0,  0,\n",
       "           0,  0,  0,  0,  0,  0,  0,  0,  0,  0,  0,  0],\n",
       "         [ 1, 19, 10, 23, 14,  3,  5, 21, 24,  3, 12,  2, 19, 26, 20,  3,  6, 16,\n",
       "          10,  2,  0,  0,  0,  0,  0,  0,  0,  0,  0,  0],\n",
       "         [ 1,  3, 28,  5,  2, 21,  4,  3, 17, 26, 20, 12, 25,  2,  0,  0,  0,  0,\n",
       "           0,  0,  0,  0,  0,  0,  0,  0,  0,  0,  0,  0],\n",
       "         [ 1, 19, 26, 20, 12,  3, 16, 10,  2, 19,  3, 23, 14, 13,  5,  3, 24,  4,\n",
       "          12,  2,  0,  0,  0,  0,  0,  0,  0,  0,  0,  0],\n",
       "         [ 1, 21,  4, 12, 17, 26,  3, 12, 25,  2,  3, 23, 18,  3,  8, 15,  9,  2,\n",
       "           0,  0,  0,  0,  0,  0,  0,  0,  0,  0,  0,  0],\n",
       "         [ 1, 21,  4,  3,  3, 26, 20, 12, 25,  2,  3, 23, 18, 11,  8, 15,  9,  2,\n",
       "           0,  0,  0,  0,  0,  0,  0,  0,  0,  0,  0,  0]]),\n",
       " tensor([[0, 0, 0, 0, 0, 1, 1, 1, 1, 1, 1, 1, 1, 1, 0, 0, 0, 0, 0, 0, 0, 0, 0, 0,\n",
       "          0, 0, 0, 0, 0, 0],\n",
       "         [0, 0, 0, 0, 0, 0, 0, 0, 0, 0, 0, 0, 1, 1, 1, 1, 1, 1, 1, 1, 0, 0, 0, 0,\n",
       "          0, 0, 0, 0, 0, 0],\n",
       "         [0, 0, 0, 0, 0, 1, 1, 1, 1, 1, 1, 1, 1, 1, 0, 0, 0, 0, 0, 0, 0, 0, 0, 0,\n",
       "          0, 0, 0, 0, 0, 0],\n",
       "         [0, 0, 0, 0, 0, 0, 0, 0, 0, 1, 1, 1, 1, 1, 1, 1, 1, 1, 1, 1, 0, 0, 0, 0,\n",
       "          0, 0, 0, 0, 0, 0],\n",
       "         [0, 0, 0, 0, 0, 0, 0, 0, 0, 0, 1, 1, 1, 1, 1, 1, 1, 1, 0, 0, 0, 0, 0, 0,\n",
       "          0, 0, 0, 0, 0, 0],\n",
       "         [0, 0, 0, 0, 0, 0, 0, 0, 0, 0, 1, 1, 1, 1, 1, 1, 1, 1, 0, 0, 0, 0, 0, 0,\n",
       "          0, 0, 0, 0, 0, 0]]))"
      ]
     },
     "execution_count": 195,
     "metadata": {},
     "output_type": "execute_result"
    }
   ],
   "source": [
    "# word_token, segment index\n",
    "input_ids, segment_ids"
   ]
  },
  {
   "cell_type": "code",
   "execution_count": 193,
   "id": "ae4ede6a",
   "metadata": {
    "scrolled": true
   },
   "outputs": [
    {
     "name": "stdout",
     "output_type": "stream",
     "text": [
      "torch.Size([6, 30, 768])\n"
     ]
    },
    {
     "data": {
      "text/plain": [
       "tensor([[[ 0.1189, -0.6494, -0.1653,  ..., -1.5683, -0.5090, -1.1351],\n",
       "         [ 0.2719,  0.0470,  0.2538,  ..., -1.5979, -0.3503, -0.1319],\n",
       "         [-0.6173, -1.3230, -0.9118,  ..., -1.8902,  0.8973, -0.5789],\n",
       "         ...,\n",
       "         [-0.2015,  1.1879,  2.1656,  ..., -1.6345, -0.6579,  0.4428],\n",
       "         [-0.6804,  1.2126,  1.5787,  ..., -1.7551, -0.8357, -0.0583],\n",
       "         [-1.4206,  0.3712,  1.6523,  ..., -0.9094, -2.0265, -0.1076]],\n",
       "\n",
       "        [[ 0.1189, -0.6494, -0.1653,  ..., -1.5683, -0.5090, -1.1351],\n",
       "         [-0.2506, -1.1500,  0.1414,  ..., -2.3564,  0.6285,  0.3956],\n",
       "         [ 0.4329, -0.1175, -0.6646,  ..., -0.7343,  0.8666, -0.0565],\n",
       "         ...,\n",
       "         [-0.2015,  1.1879,  2.1656,  ..., -1.6345, -0.6579,  0.4428],\n",
       "         [-0.6804,  1.2126,  1.5787,  ..., -1.7551, -0.8357, -0.0583],\n",
       "         [-1.4206,  0.3712,  1.6523,  ..., -0.9094, -2.0265, -0.1076]],\n",
       "\n",
       "        [[ 0.1189, -0.6494, -0.1653,  ..., -1.5683, -0.5090, -1.1351],\n",
       "         [-0.4722, -0.5195, -0.4120,  ..., -1.8517,  0.5686, -0.2041],\n",
       "         [-1.0113, -0.7118, -1.4769,  ..., -1.9524,  0.3745,  0.1540],\n",
       "         ...,\n",
       "         [-0.2015,  1.1879,  2.1656,  ..., -1.6345, -0.6579,  0.4428],\n",
       "         [-0.6804,  1.2126,  1.5787,  ..., -1.7551, -0.8357, -0.0583],\n",
       "         [-1.4206,  0.3712,  1.6523,  ..., -0.9094, -2.0265, -0.1076]],\n",
       "\n",
       "        [[ 0.1189, -0.6494, -0.1653,  ..., -1.5683, -0.5090, -1.1351],\n",
       "         [-0.2506, -1.1500,  0.1414,  ..., -2.3564,  0.6285,  0.3956],\n",
       "         [-0.6202, -1.4180, -1.0842,  ..., -2.3096, -0.2705, -0.8631],\n",
       "         ...,\n",
       "         [-0.2015,  1.1879,  2.1656,  ..., -1.6345, -0.6579,  0.4428],\n",
       "         [-0.6804,  1.2126,  1.5787,  ..., -1.7551, -0.8357, -0.0583],\n",
       "         [-1.4206,  0.3712,  1.6523,  ..., -0.9094, -2.0265, -0.1076]],\n",
       "\n",
       "        [[ 0.1189, -0.6494, -0.1653,  ..., -1.5683, -0.5090, -1.1351],\n",
       "         [-0.3379,  0.1991, -0.2779,  ..., -2.1568, -0.8825, -0.2139],\n",
       "         [-0.1515, -1.3558, -1.1034,  ..., -1.7678, -0.1973,  0.2327],\n",
       "         ...,\n",
       "         [-0.2015,  1.1879,  2.1656,  ..., -1.6345, -0.6579,  0.4428],\n",
       "         [-0.6804,  1.2126,  1.5787,  ..., -1.7551, -0.8357, -0.0583],\n",
       "         [-1.4206,  0.3712,  1.6523,  ..., -0.9094, -2.0265, -0.1076]],\n",
       "\n",
       "        [[ 0.1189, -0.6494, -0.1653,  ..., -1.5683, -0.5090, -1.1351],\n",
       "         [-0.3379,  0.1991, -0.2779,  ..., -2.1568, -0.8825, -0.2139],\n",
       "         [-0.1515, -1.3558, -1.1034,  ..., -1.7678, -0.1973,  0.2327],\n",
       "         ...,\n",
       "         [-0.2015,  1.1879,  2.1656,  ..., -1.6345, -0.6579,  0.4428],\n",
       "         [-0.6804,  1.2126,  1.5787,  ..., -1.7551, -0.8357, -0.0583],\n",
       "         [-1.4206,  0.3712,  1.6523,  ..., -0.9094, -2.0265, -0.1076]]],\n",
       "       grad_fn=<NativeLayerNormBackward0>)"
      ]
     },
     "execution_count": 193,
     "metadata": {},
     "output_type": "execute_result"
    }
   ],
   "source": [
    "# embedding layer\n",
    "output = embedding(input_ids, segment_ids)\n",
    "print(output.shape)\n",
    "output\n",
    "# token + segment + position"
   ]
  },
  {
   "cell_type": "code",
   "execution_count": 203,
   "id": "c3906481",
   "metadata": {
    "scrolled": true
   },
   "outputs": [
    {
     "name": "stdout",
     "output_type": "stream",
     "text": [
      "torch.Size([6, 30, 30])\n"
     ]
    },
    {
     "data": {
      "text/plain": [
       "tensor([[False, False, False, False, False, False, False, False, False, False,\n",
       "         False, False, False, False,  True,  True,  True,  True,  True,  True,\n",
       "          True,  True,  True,  True,  True,  True,  True,  True,  True,  True],\n",
       "        [False, False, False, False, False, False, False, False, False, False,\n",
       "         False, False, False, False,  True,  True,  True,  True,  True,  True,\n",
       "          True,  True,  True,  True,  True,  True,  True,  True,  True,  True],\n",
       "        [False, False, False, False, False, False, False, False, False, False,\n",
       "         False, False, False, False,  True,  True,  True,  True,  True,  True,\n",
       "          True,  True,  True,  True,  True,  True,  True,  True,  True,  True],\n",
       "        [False, False, False, False, False, False, False, False, False, False,\n",
       "         False, False, False, False,  True,  True,  True,  True,  True,  True,\n",
       "          True,  True,  True,  True,  True,  True,  True,  True,  True,  True],\n",
       "        [False, False, False, False, False, False, False, False, False, False,\n",
       "         False, False, False, False,  True,  True,  True,  True,  True,  True,\n",
       "          True,  True,  True,  True,  True,  True,  True,  True,  True,  True],\n",
       "        [False, False, False, False, False, False, False, False, False, False,\n",
       "         False, False, False, False,  True,  True,  True,  True,  True,  True,\n",
       "          True,  True,  True,  True,  True,  True,  True,  True,  True,  True],\n",
       "        [False, False, False, False, False, False, False, False, False, False,\n",
       "         False, False, False, False,  True,  True,  True,  True,  True,  True,\n",
       "          True,  True,  True,  True,  True,  True,  True,  True,  True,  True],\n",
       "        [False, False, False, False, False, False, False, False, False, False,\n",
       "         False, False, False, False,  True,  True,  True,  True,  True,  True,\n",
       "          True,  True,  True,  True,  True,  True,  True,  True,  True,  True],\n",
       "        [False, False, False, False, False, False, False, False, False, False,\n",
       "         False, False, False, False,  True,  True,  True,  True,  True,  True,\n",
       "          True,  True,  True,  True,  True,  True,  True,  True,  True,  True],\n",
       "        [False, False, False, False, False, False, False, False, False, False,\n",
       "         False, False, False, False,  True,  True,  True,  True,  True,  True,\n",
       "          True,  True,  True,  True,  True,  True,  True,  True,  True,  True],\n",
       "        [False, False, False, False, False, False, False, False, False, False,\n",
       "         False, False, False, False,  True,  True,  True,  True,  True,  True,\n",
       "          True,  True,  True,  True,  True,  True,  True,  True,  True,  True],\n",
       "        [False, False, False, False, False, False, False, False, False, False,\n",
       "         False, False, False, False,  True,  True,  True,  True,  True,  True,\n",
       "          True,  True,  True,  True,  True,  True,  True,  True,  True,  True],\n",
       "        [False, False, False, False, False, False, False, False, False, False,\n",
       "         False, False, False, False,  True,  True,  True,  True,  True,  True,\n",
       "          True,  True,  True,  True,  True,  True,  True,  True,  True,  True],\n",
       "        [False, False, False, False, False, False, False, False, False, False,\n",
       "         False, False, False, False,  True,  True,  True,  True,  True,  True,\n",
       "          True,  True,  True,  True,  True,  True,  True,  True,  True,  True],\n",
       "        [False, False, False, False, False, False, False, False, False, False,\n",
       "         False, False, False, False,  True,  True,  True,  True,  True,  True,\n",
       "          True,  True,  True,  True,  True,  True,  True,  True,  True,  True],\n",
       "        [False, False, False, False, False, False, False, False, False, False,\n",
       "         False, False, False, False,  True,  True,  True,  True,  True,  True,\n",
       "          True,  True,  True,  True,  True,  True,  True,  True,  True,  True],\n",
       "        [False, False, False, False, False, False, False, False, False, False,\n",
       "         False, False, False, False,  True,  True,  True,  True,  True,  True,\n",
       "          True,  True,  True,  True,  True,  True,  True,  True,  True,  True],\n",
       "        [False, False, False, False, False, False, False, False, False, False,\n",
       "         False, False, False, False,  True,  True,  True,  True,  True,  True,\n",
       "          True,  True,  True,  True,  True,  True,  True,  True,  True,  True],\n",
       "        [False, False, False, False, False, False, False, False, False, False,\n",
       "         False, False, False, False,  True,  True,  True,  True,  True,  True,\n",
       "          True,  True,  True,  True,  True,  True,  True,  True,  True,  True],\n",
       "        [False, False, False, False, False, False, False, False, False, False,\n",
       "         False, False, False, False,  True,  True,  True,  True,  True,  True,\n",
       "          True,  True,  True,  True,  True,  True,  True,  True,  True,  True],\n",
       "        [False, False, False, False, False, False, False, False, False, False,\n",
       "         False, False, False, False,  True,  True,  True,  True,  True,  True,\n",
       "          True,  True,  True,  True,  True,  True,  True,  True,  True,  True],\n",
       "        [False, False, False, False, False, False, False, False, False, False,\n",
       "         False, False, False, False,  True,  True,  True,  True,  True,  True,\n",
       "          True,  True,  True,  True,  True,  True,  True,  True,  True,  True],\n",
       "        [False, False, False, False, False, False, False, False, False, False,\n",
       "         False, False, False, False,  True,  True,  True,  True,  True,  True,\n",
       "          True,  True,  True,  True,  True,  True,  True,  True,  True,  True],\n",
       "        [False, False, False, False, False, False, False, False, False, False,\n",
       "         False, False, False, False,  True,  True,  True,  True,  True,  True,\n",
       "          True,  True,  True,  True,  True,  True,  True,  True,  True,  True],\n",
       "        [False, False, False, False, False, False, False, False, False, False,\n",
       "         False, False, False, False,  True,  True,  True,  True,  True,  True,\n",
       "          True,  True,  True,  True,  True,  True,  True,  True,  True,  True],\n",
       "        [False, False, False, False, False, False, False, False, False, False,\n",
       "         False, False, False, False,  True,  True,  True,  True,  True,  True,\n",
       "          True,  True,  True,  True,  True,  True,  True,  True,  True,  True],\n",
       "        [False, False, False, False, False, False, False, False, False, False,\n",
       "         False, False, False, False,  True,  True,  True,  True,  True,  True,\n",
       "          True,  True,  True,  True,  True,  True,  True,  True,  True,  True],\n",
       "        [False, False, False, False, False, False, False, False, False, False,\n",
       "         False, False, False, False,  True,  True,  True,  True,  True,  True,\n",
       "          True,  True,  True,  True,  True,  True,  True,  True,  True,  True],\n",
       "        [False, False, False, False, False, False, False, False, False, False,\n",
       "         False, False, False, False,  True,  True,  True,  True,  True,  True,\n",
       "          True,  True,  True,  True,  True,  True,  True,  True,  True,  True],\n",
       "        [False, False, False, False, False, False, False, False, False, False,\n",
       "         False, False, False, False,  True,  True,  True,  True,  True,  True,\n",
       "          True,  True,  True,  True,  True,  True,  True,  True,  True,  True]])"
      ]
     },
     "execution_count": 203,
     "metadata": {},
     "output_type": "execute_result"
    }
   ],
   "source": [
    "# zero padding 된 부분 True로 표시\n",
    "enc_self_attn_mask = get_attn_pad_mask(input_ids, input_ids)\n",
    "print(enc_self_attn_mask.shape)\n",
    "enc_self_attn_mask[0]"
   ]
  },
  {
   "cell_type": "code",
   "execution_count": 206,
   "id": "1a38b5fe",
   "metadata": {
    "scrolled": true
   },
   "outputs": [
    {
     "data": {
      "text/plain": [
       "ModuleList(\n",
       "  (0): EncoderLayer(\n",
       "    (enc_self_attn): MultiHeadAttention(\n",
       "      (W_Q): Linear(in_features=768, out_features=768, bias=True)\n",
       "      (W_K): Linear(in_features=768, out_features=768, bias=True)\n",
       "      (W_V): Linear(in_features=768, out_features=768, bias=True)\n",
       "    )\n",
       "    (pos_ffn): PoswiseFeedForwardNet(\n",
       "      (fc1): Linear(in_features=768, out_features=3072, bias=True)\n",
       "      (fc2): Linear(in_features=3072, out_features=768, bias=True)\n",
       "    )\n",
       "  )\n",
       "  (1): EncoderLayer(\n",
       "    (enc_self_attn): MultiHeadAttention(\n",
       "      (W_Q): Linear(in_features=768, out_features=768, bias=True)\n",
       "      (W_K): Linear(in_features=768, out_features=768, bias=True)\n",
       "      (W_V): Linear(in_features=768, out_features=768, bias=True)\n",
       "    )\n",
       "    (pos_ffn): PoswiseFeedForwardNet(\n",
       "      (fc1): Linear(in_features=768, out_features=3072, bias=True)\n",
       "      (fc2): Linear(in_features=3072, out_features=768, bias=True)\n",
       "    )\n",
       "  )\n",
       "  (2): EncoderLayer(\n",
       "    (enc_self_attn): MultiHeadAttention(\n",
       "      (W_Q): Linear(in_features=768, out_features=768, bias=True)\n",
       "      (W_K): Linear(in_features=768, out_features=768, bias=True)\n",
       "      (W_V): Linear(in_features=768, out_features=768, bias=True)\n",
       "    )\n",
       "    (pos_ffn): PoswiseFeedForwardNet(\n",
       "      (fc1): Linear(in_features=768, out_features=3072, bias=True)\n",
       "      (fc2): Linear(in_features=3072, out_features=768, bias=True)\n",
       "    )\n",
       "  )\n",
       "  (3): EncoderLayer(\n",
       "    (enc_self_attn): MultiHeadAttention(\n",
       "      (W_Q): Linear(in_features=768, out_features=768, bias=True)\n",
       "      (W_K): Linear(in_features=768, out_features=768, bias=True)\n",
       "      (W_V): Linear(in_features=768, out_features=768, bias=True)\n",
       "    )\n",
       "    (pos_ffn): PoswiseFeedForwardNet(\n",
       "      (fc1): Linear(in_features=768, out_features=3072, bias=True)\n",
       "      (fc2): Linear(in_features=3072, out_features=768, bias=True)\n",
       "    )\n",
       "  )\n",
       "  (4): EncoderLayer(\n",
       "    (enc_self_attn): MultiHeadAttention(\n",
       "      (W_Q): Linear(in_features=768, out_features=768, bias=True)\n",
       "      (W_K): Linear(in_features=768, out_features=768, bias=True)\n",
       "      (W_V): Linear(in_features=768, out_features=768, bias=True)\n",
       "    )\n",
       "    (pos_ffn): PoswiseFeedForwardNet(\n",
       "      (fc1): Linear(in_features=768, out_features=3072, bias=True)\n",
       "      (fc2): Linear(in_features=3072, out_features=768, bias=True)\n",
       "    )\n",
       "  )\n",
       "  (5): EncoderLayer(\n",
       "    (enc_self_attn): MultiHeadAttention(\n",
       "      (W_Q): Linear(in_features=768, out_features=768, bias=True)\n",
       "      (W_K): Linear(in_features=768, out_features=768, bias=True)\n",
       "      (W_V): Linear(in_features=768, out_features=768, bias=True)\n",
       "    )\n",
       "    (pos_ffn): PoswiseFeedForwardNet(\n",
       "      (fc1): Linear(in_features=768, out_features=3072, bias=True)\n",
       "      (fc2): Linear(in_features=3072, out_features=768, bias=True)\n",
       "    )\n",
       "  )\n",
       ")"
      ]
     },
     "execution_count": 206,
     "metadata": {},
     "output_type": "execute_result"
    }
   ],
   "source": [
    "# transformer-encoder-Multihead Attention 아키텍쳐 정의\n",
    "layers = nn.ModuleList([EncoderLayer() for _ in range(n_layers)])\n",
    "layers"
   ]
  },
  {
   "cell_type": "code",
   "execution_count": 207,
   "id": "2880beac",
   "metadata": {},
   "outputs": [],
   "source": [
    "# Multihead Attention * 6 실행\n",
    "for layer in layers: # # Multihead Attention * 6\n",
    "    output, enc_self_attn = layer(output, enc_self_attn_mask) "
   ]
  },
  {
   "cell_type": "code",
   "execution_count": 210,
   "id": "b47bfa46",
   "metadata": {},
   "outputs": [
    {
     "data": {
      "text/plain": [
       "(torch.Size([6, 30, 768]), torch.Size([6, 12, 30, 30]))"
      ]
     },
     "execution_count": 210,
     "metadata": {},
     "output_type": "execute_result"
    }
   ],
   "source": [
    "output.shape, enc_self_attn.shape"
   ]
  },
  {
   "cell_type": "code",
   "execution_count": 212,
   "id": "b249b588",
   "metadata": {},
   "outputs": [],
   "source": [
    "fc = nn.Linear(d_model, d_model)  # (768 * 768)"
   ]
  },
  {
   "cell_type": "code",
   "execution_count": 214,
   "id": "e78fcd54",
   "metadata": {},
   "outputs": [],
   "source": [
    "activ1 = nn.Tanh()"
   ]
  },
  {
   "cell_type": "code",
   "execution_count": 215,
   "id": "42b0dac1",
   "metadata": {},
   "outputs": [
    {
     "name": "stdout",
     "output_type": "stream",
     "text": [
      "torch.Size([6, 768])\n"
     ]
    }
   ],
   "source": [
    "print(output[:, 0].shape)\n",
    "h_pooled = activ1(fc(output[:, 0]))"
   ]
  },
  {
   "cell_type": "code",
   "execution_count": 216,
   "id": "6c03c4e8",
   "metadata": {},
   "outputs": [
    {
     "data": {
      "text/plain": [
       "torch.Size([6, 768])"
      ]
     },
     "execution_count": 216,
     "metadata": {},
     "output_type": "execute_result"
    }
   ],
   "source": [
    "h_pooled.shape"
   ]
  },
  {
   "cell_type": "code",
   "execution_count": 133,
   "id": "e585ddf2",
   "metadata": {},
   "outputs": [],
   "source": [
    "classifier = nn.Linear(d_model, 2)"
   ]
  },
  {
   "cell_type": "code",
   "execution_count": 137,
   "id": "49a0a120",
   "metadata": {},
   "outputs": [],
   "source": [
    "logits_clsf = classifier(h_pooled) # 768 * 2"
   ]
  },
  {
   "cell_type": "code",
   "execution_count": 138,
   "id": "064f8a4f",
   "metadata": {},
   "outputs": [
    {
     "data": {
      "text/plain": [
       "tensor([[-0.0257,  0.1241],\n",
       "        [-0.0215,  0.1168],\n",
       "        [-0.0196,  0.1300],\n",
       "        [-0.0148,  0.1248],\n",
       "        [-0.0348,  0.1221],\n",
       "        [-0.0328,  0.1235]], grad_fn=<AddmmBackward0>)"
      ]
     },
     "execution_count": 138,
     "metadata": {},
     "output_type": "execute_result"
    }
   ],
   "source": [
    "logits_clsf"
   ]
  },
  {
   "cell_type": "code",
   "execution_count": 139,
   "id": "d3bbf4ee",
   "metadata": {},
   "outputs": [
    {
     "data": {
      "text/plain": [
       "tensor([[[ 6,  6,  6,  ...,  6,  6,  6],\n",
       "         [ 2,  2,  2,  ...,  2,  2,  2],\n",
       "         [ 0,  0,  0,  ...,  0,  0,  0],\n",
       "         [ 0,  0,  0,  ...,  0,  0,  0],\n",
       "         [ 0,  0,  0,  ...,  0,  0,  0]],\n",
       "\n",
       "        [[ 5,  5,  5,  ...,  5,  5,  5],\n",
       "         [15, 15, 15,  ..., 15, 15, 15],\n",
       "         [ 9,  9,  9,  ...,  9,  9,  9],\n",
       "         [ 0,  0,  0,  ...,  0,  0,  0],\n",
       "         [ 0,  0,  0,  ...,  0,  0,  0]],\n",
       "\n",
       "        [[ 1,  1,  1,  ...,  1,  1,  1],\n",
       "         [ 7,  7,  7,  ...,  7,  7,  7],\n",
       "         [ 0,  0,  0,  ...,  0,  0,  0],\n",
       "         [ 0,  0,  0,  ...,  0,  0,  0],\n",
       "         [ 0,  0,  0,  ...,  0,  0,  0]],\n",
       "\n",
       "        [[ 5,  5,  5,  ...,  5,  5,  5],\n",
       "         [10, 10, 10,  ..., 10, 10, 10],\n",
       "         [15, 15, 15,  ..., 15, 15, 15],\n",
       "         [ 0,  0,  0,  ...,  0,  0,  0],\n",
       "         [ 0,  0,  0,  ...,  0,  0,  0]],\n",
       "\n",
       "        [[13, 13, 13,  ..., 13, 13, 13],\n",
       "         [ 6,  6,  6,  ...,  6,  6,  6],\n",
       "         [10, 10, 10,  ..., 10, 10, 10],\n",
       "         [ 0,  0,  0,  ...,  0,  0,  0],\n",
       "         [ 0,  0,  0,  ...,  0,  0,  0]],\n",
       "\n",
       "        [[ 3,  3,  3,  ...,  3,  3,  3],\n",
       "         [ 4,  4,  4,  ...,  4,  4,  4],\n",
       "         [10, 10, 10,  ..., 10, 10, 10],\n",
       "         [ 0,  0,  0,  ...,  0,  0,  0],\n",
       "         [ 0,  0,  0,  ...,  0,  0,  0]]])"
      ]
     },
     "execution_count": 139,
     "metadata": {},
     "output_type": "execute_result"
    }
   ],
   "source": [
    "masked_pos"
   ]
  },
  {
   "cell_type": "code",
   "execution_count": 149,
   "id": "34340e52",
   "metadata": {},
   "outputs": [
    {
     "data": {
      "text/plain": [
       "(torch.Size([6, 30, 768]), torch.Size([6, 5, 768]))"
      ]
     },
     "execution_count": 149,
     "metadata": {},
     "output_type": "execute_result"
    }
   ],
   "source": [
    "output.shape, h_masked.shape"
   ]
  },
  {
   "cell_type": "code",
   "execution_count": 141,
   "id": "9286ce3e",
   "metadata": {},
   "outputs": [
    {
     "data": {
      "text/plain": [
       "tensor([[[ 0.3436,  0.0796, -0.1103,  ..., -0.3413, -0.1028,  0.0774],\n",
       "         [ 0.0917, -0.2705, -0.0349,  ..., -0.0708, -0.0929, -0.1157],\n",
       "         [-0.1180,  0.0144, -0.1075,  ..., -0.1348, -0.2497,  0.1692],\n",
       "         [-0.1180,  0.0144, -0.1075,  ..., -0.1348, -0.2497,  0.1692],\n",
       "         [-0.1180,  0.0144, -0.1075,  ..., -0.1348, -0.2497,  0.1692]],\n",
       "\n",
       "        [[-0.0712, -0.1533,  0.0117,  ..., -0.0195, -0.2495,  0.2690],\n",
       "         [ 0.2108,  0.1466,  0.0904,  ..., -0.2638, -0.1845,  0.1594],\n",
       "         [-0.1219, -0.2331,  0.1493,  ..., -0.0733, -0.1656,  0.1293],\n",
       "         [-0.1773,  0.0553, -0.0641,  ..., -0.1362, -0.2448,  0.1423],\n",
       "         [-0.1773,  0.0553, -0.0641,  ..., -0.1362, -0.2448,  0.1423]],\n",
       "\n",
       "        [[ 0.1992, -0.0858, -0.0056,  ...,  0.0475, -0.0161,  0.0718],\n",
       "         [ 0.3804, -0.0241,  0.0120,  ..., -0.2772, -0.1647,  0.0564],\n",
       "         [-0.1039,  0.0225, -0.0971,  ..., -0.1524, -0.2400,  0.1594],\n",
       "         [-0.1039,  0.0225, -0.0971,  ..., -0.1524, -0.2400,  0.1594],\n",
       "         [-0.1039,  0.0225, -0.0971,  ..., -0.1524, -0.2400,  0.1594]],\n",
       "\n",
       "        [[-0.0664, -0.1507, -0.0168,  ...,  0.0081, -0.2374,  0.2435],\n",
       "         [ 0.0573,  0.0232, -0.0544,  ..., -0.2812, -0.0543,  0.1797],\n",
       "         [ 0.2161,  0.1548,  0.0642,  ..., -0.2005, -0.1644,  0.1583],\n",
       "         [-0.1772,  0.0531, -0.0906,  ..., -0.1178, -0.2417,  0.1363],\n",
       "         [-0.1772,  0.0531, -0.0906,  ..., -0.1178, -0.2417,  0.1363]],\n",
       "\n",
       "        [[ 0.3524,  0.0457, -0.0554,  ..., -0.2768, -0.2613,  0.2043],\n",
       "         [ 0.0160, -0.2080, -0.0452,  ..., -0.0107, -0.0731,  0.0589],\n",
       "         [ 0.0744, -0.0085, -0.0681,  ..., -0.3173, -0.0347,  0.1856],\n",
       "         [-0.1715,  0.0358, -0.0690,  ..., -0.1043, -0.2422,  0.1589],\n",
       "         [-0.1715,  0.0358, -0.0690,  ..., -0.1043, -0.2422,  0.1589]],\n",
       "\n",
       "        [[ 0.1593, -0.0095, -0.0079,  ..., -0.2631,  0.0244,  0.0329],\n",
       "         [ 0.0692, -0.0829, -0.0175,  ..., -0.0739, -0.2046,  0.0792],\n",
       "         [ 0.0762, -0.0058, -0.0493,  ..., -0.3070, -0.0445,  0.1923],\n",
       "         [-0.1706,  0.0443, -0.0642,  ..., -0.0989, -0.2487,  0.1519],\n",
       "         [-0.1706,  0.0443, -0.0642,  ..., -0.0989, -0.2487,  0.1519]]],\n",
       "       grad_fn=<GatherBackward0>)"
      ]
     },
     "execution_count": 141,
     "metadata": {},
     "output_type": "execute_result"
    }
   ],
   "source": [
    "h_masked = torch.gather(output, 1, masked_pos) # torch.gather(input, dim, index)\n",
    "h_masked"
   ]
  },
  {
   "cell_type": "code",
   "execution_count": 150,
   "id": "d2263379",
   "metadata": {},
   "outputs": [],
   "source": [
    "norm = nn.LayerNorm(d_model)"
   ]
  },
  {
   "cell_type": "code",
   "execution_count": 152,
   "id": "bf4ad0ae",
   "metadata": {},
   "outputs": [],
   "source": [
    "activ2 = gelu"
   ]
  },
  {
   "cell_type": "code",
   "execution_count": 155,
   "id": "6f535e77",
   "metadata": {},
   "outputs": [],
   "source": [
    "linear = nn.Linear(d_model, d_model)"
   ]
  },
  {
   "cell_type": "code",
   "execution_count": 156,
   "id": "67e568e8",
   "metadata": {},
   "outputs": [],
   "source": [
    "h_masked = norm(activ2(linear(h_masked)))"
   ]
  },
  {
   "cell_type": "code",
   "execution_count": 158,
   "id": "fc94dbae",
   "metadata": {},
   "outputs": [
    {
     "data": {
      "text/plain": [
       "torch.Size([6, 5, 768])"
      ]
     },
     "execution_count": 158,
     "metadata": {},
     "output_type": "execute_result"
    }
   ],
   "source": [
    "h_masked.shape"
   ]
  },
  {
   "cell_type": "code",
   "execution_count": 160,
   "id": "67a76a90",
   "metadata": {},
   "outputs": [],
   "source": [
    "embed_weight = embedding.tok_embed.weight\n",
    "n_vocab, n_dim = embed_weight.size()\n",
    "\n",
    "decoder = nn.Linear(n_dim, n_vocab, bias=False)\n",
    "decoder_bias = nn.Parameter(torch.zeros(n_vocab))"
   ]
  },
  {
   "cell_type": "code",
   "execution_count": 166,
   "id": "78c00c52",
   "metadata": {},
   "outputs": [],
   "source": [
    "logits_lm = decoder(h_masked) + decoder_bias"
   ]
  },
  {
   "cell_type": "code",
   "execution_count": 169,
   "id": "9b6f793b",
   "metadata": {},
   "outputs": [
    {
     "data": {
      "text/plain": [
       "(torch.Size([6, 2]), torch.Size([6, 5, 29]))"
      ]
     },
     "execution_count": 169,
     "metadata": {},
     "output_type": "execute_result"
    }
   ],
   "source": [
    "logits_clsf.shape, logits_lm.shape"
   ]
  },
  {
   "cell_type": "code",
   "execution_count": 186,
   "id": "d5a7eaf2",
   "metadata": {},
   "outputs": [
    {
     "data": {
      "text/plain": [
       "tensor([[ 8,  5,  5,  5,  5],\n",
       "        [18, 18, 15,  5,  5],\n",
       "        [12, 18,  5,  5,  5],\n",
       "        [18, 18, 18,  5,  5],\n",
       "        [ 5,  5, 18,  5,  5],\n",
       "        [24,  5, 18,  5,  5]])"
      ]
     },
     "execution_count": 186,
     "metadata": {},
     "output_type": "execute_result"
    }
   ],
   "source": [
    "logits_lm.data.max(2)[1]"
   ]
  },
  {
   "cell_type": "code",
   "execution_count": 170,
   "id": "4529592c",
   "metadata": {},
   "outputs": [
    {
     "data": {
      "text/plain": [
       "array([8, 5, 5, 5, 5], dtype=int64)"
      ]
     },
     "execution_count": 170,
     "metadata": {},
     "output_type": "execute_result"
    }
   ],
   "source": [
    "logits_lm.data.max(2)[1][0].data.numpy()"
   ]
  },
  {
   "cell_type": "markdown",
   "id": "e0760ce8",
   "metadata": {},
   "source": [
    "___"
   ]
  },
  {
   "cell_type": "code",
   "execution_count": 26,
   "id": "421d4ba0",
   "metadata": {},
   "outputs": [
    {
     "name": "stdout",
     "output_type": "stream",
     "text": [
      "Epoch: 0010 cost = 50.184807\n",
      "Epoch: 0020 cost = 28.885002\n",
      "Epoch: 0030 cost = 11.690194\n",
      "Epoch: 0040 cost = 5.196136\n",
      "Epoch: 0050 cost = 3.803531\n",
      "Epoch: 0060 cost = 3.314933\n",
      "Epoch: 0070 cost = 3.649222\n",
      "Epoch: 0080 cost = 3.378980\n",
      "Epoch: 0090 cost = 3.077944\n",
      "Epoch: 0100 cost = 2.820939\n",
      "Hello, how are you? I am Romeo.\n",
      "Hello, Romeo My name is Juliet. Nice to meet you.\n",
      "Nice meet you too. How are you today?\n",
      "Great. My baseball team won the competition.\n",
      "Oh Congratulations, Juliet\n",
      "Thanks you Romeo\n",
      "['[CLS]', 'oh', '[MASK]', 'juliet', '[SEP]', 'nice', '[MASK]', 'you', 'too', 'how', 'are', 'you', 'today', '[SEP]']\n",
      "masked tokens list :  [4, 28]\n",
      "predict masked tokens list :  [12, 12, 12, 12, 12]\n",
      "isNext :  False\n",
      "predict isNext :  False\n"
     ]
    }
   ],
   "source": [
    "if __name__ == '__main__':\n",
    "    # BERT Parameters\n",
    "    maxlen = 30 # maximum of length\n",
    "    batch_size = 6\n",
    "    max_pred = 5  # max tokens of prediction\n",
    "    n_layers = 6 # number of Encoder of Encoder Layer\n",
    "    n_heads = 12 # number of heads in Multi-Head Attention\n",
    "    d_model = 768 # Embedding Size\n",
    "    d_ff = 768 * 4  # 4*d_model, FeedForward dimension\n",
    "    d_k = d_v = 64  # dimension of K(=Q), V\n",
    "    n_segments = 2\n",
    "\n",
    "    text = (\n",
    "        'Hello, how are you? I am Romeo.\\n'\n",
    "        'Hello, Romeo My name is Juliet. Nice to meet you.\\n'\n",
    "        'Nice meet you too. How are you today?\\n'\n",
    "        'Great. My baseball team won the competition.\\n'\n",
    "        'Oh Congratulations, Juliet\\n'\n",
    "        'Thanks you Romeo'\n",
    "    )\n",
    "    sentences = re.sub(\"[.,!?\\\\-]\", '', text.lower()).split('\\n')  # filter '.', ',', '?', '!'\n",
    "    word_list = list(set(\" \".join(sentences).split()))\n",
    "    word_dict = {'[PAD]': 0, '[CLS]': 1, '[SEP]': 2, '[MASK]': 3}\n",
    "    for i, w in enumerate(word_list):\n",
    "        word_dict[w] = i + 4\n",
    "    number_dict = {i: w for i, w in enumerate(word_dict)}\n",
    "    vocab_size = len(word_dict)\n",
    "\n",
    "    token_list = list()\n",
    "    for sentence in sentences:\n",
    "        arr = [word_dict[s] for s in sentence.split()]\n",
    "        token_list.append(arr)\n",
    "\n",
    "    model = BERT()\n",
    "    criterion = nn.CrossEntropyLoss()\n",
    "    optimizer = optim.Adam(model.parameters(), lr=0.001)\n",
    "\n",
    "    batch = make_batch()\n",
    "    input_ids, segment_ids, masked_tokens, masked_pos, isNext = map(torch.LongTensor, zip(*batch))\n",
    "\n",
    "    for epoch in range(100):\n",
    "        optimizer.zero_grad()\n",
    "        logits_lm, logits_clsf = model(input_ids, segment_ids, masked_pos)\n",
    "        loss_lm = criterion(logits_lm.transpose(1, 2), masked_tokens) # for masked LM\n",
    "        loss_lm = (loss_lm.float()).mean()\n",
    "        loss_clsf = criterion(logits_clsf, isNext) # for sentence classification\n",
    "        loss = loss_lm + loss_clsf\n",
    "        if (epoch + 1) % 10 == 0:\n",
    "            print('Epoch:', '%04d' % (epoch + 1), 'cost =', '{:.6f}'.format(loss))\n",
    "        loss.backward()\n",
    "        optimizer.step()\n",
    "\n",
    "    # Predict mask tokens ans isNext\n",
    "    input_ids, segment_ids, masked_tokens, masked_pos, isNext = map(torch.LongTensor, zip(batch[0]))\n",
    "    print(text)\n",
    "    print([number_dict[w.item()] for w in input_ids[0] if number_dict[w.item()] != '[PAD]'])\n",
    "\n",
    "    logits_lm, logits_clsf = model(input_ids, segment_ids, masked_pos)\n",
    "    logits_lm = logits_lm.data.max(2)[1][0].data.numpy()\n",
    "    print('masked tokens list : ',[pos.item() for pos in masked_tokens[0] if pos.item() != 0])\n",
    "    print('predict masked tokens list : ',[pos for pos in logits_lm if pos != 0])\n",
    "\n",
    "    logits_clsf = logits_clsf.data.max(1)[1].data.numpy()[0]\n",
    "    print('isNext : ', True if isNext else False)\n",
    "    print('predict isNext : ',True if logits_clsf else False)"
   ]
  },
  {
   "cell_type": "code",
   "execution_count": 28,
   "id": "a08a58ea",
   "metadata": {},
   "outputs": [
    {
     "data": {
      "text/plain": [
       "0"
      ]
     },
     "execution_count": 28,
     "metadata": {},
     "output_type": "execute_result"
    }
   ],
   "source": [
    "logits_clsf"
   ]
  },
  {
   "cell_type": "code",
   "execution_count": 258,
   "id": "8468b950",
   "metadata": {
    "scrolled": true
   },
   "outputs": [
    {
     "data": {
      "text/plain": [
       "BERT(\n",
       "  (embedding): Embedding(\n",
       "    (tok_embed): Embedding(29, 768)\n",
       "    (pos_embed): Embedding(30, 768)\n",
       "    (seg_embed): Embedding(2, 768)\n",
       "    (norm): LayerNorm((768,), eps=1e-05, elementwise_affine=True)\n",
       "  )\n",
       "  (layers): ModuleList(\n",
       "    (0): EncoderLayer(\n",
       "      (enc_self_attn): MultiHeadAttention(\n",
       "        (W_Q): Linear(in_features=768, out_features=768, bias=True)\n",
       "        (W_K): Linear(in_features=768, out_features=768, bias=True)\n",
       "        (W_V): Linear(in_features=768, out_features=768, bias=True)\n",
       "      )\n",
       "      (pos_ffn): PoswiseFeedForwardNet(\n",
       "        (fc1): Linear(in_features=768, out_features=3072, bias=True)\n",
       "        (fc2): Linear(in_features=3072, out_features=768, bias=True)\n",
       "      )\n",
       "    )\n",
       "    (1): EncoderLayer(\n",
       "      (enc_self_attn): MultiHeadAttention(\n",
       "        (W_Q): Linear(in_features=768, out_features=768, bias=True)\n",
       "        (W_K): Linear(in_features=768, out_features=768, bias=True)\n",
       "        (W_V): Linear(in_features=768, out_features=768, bias=True)\n",
       "      )\n",
       "      (pos_ffn): PoswiseFeedForwardNet(\n",
       "        (fc1): Linear(in_features=768, out_features=3072, bias=True)\n",
       "        (fc2): Linear(in_features=3072, out_features=768, bias=True)\n",
       "      )\n",
       "    )\n",
       "    (2): EncoderLayer(\n",
       "      (enc_self_attn): MultiHeadAttention(\n",
       "        (W_Q): Linear(in_features=768, out_features=768, bias=True)\n",
       "        (W_K): Linear(in_features=768, out_features=768, bias=True)\n",
       "        (W_V): Linear(in_features=768, out_features=768, bias=True)\n",
       "      )\n",
       "      (pos_ffn): PoswiseFeedForwardNet(\n",
       "        (fc1): Linear(in_features=768, out_features=3072, bias=True)\n",
       "        (fc2): Linear(in_features=3072, out_features=768, bias=True)\n",
       "      )\n",
       "    )\n",
       "    (3): EncoderLayer(\n",
       "      (enc_self_attn): MultiHeadAttention(\n",
       "        (W_Q): Linear(in_features=768, out_features=768, bias=True)\n",
       "        (W_K): Linear(in_features=768, out_features=768, bias=True)\n",
       "        (W_V): Linear(in_features=768, out_features=768, bias=True)\n",
       "      )\n",
       "      (pos_ffn): PoswiseFeedForwardNet(\n",
       "        (fc1): Linear(in_features=768, out_features=3072, bias=True)\n",
       "        (fc2): Linear(in_features=3072, out_features=768, bias=True)\n",
       "      )\n",
       "    )\n",
       "    (4): EncoderLayer(\n",
       "      (enc_self_attn): MultiHeadAttention(\n",
       "        (W_Q): Linear(in_features=768, out_features=768, bias=True)\n",
       "        (W_K): Linear(in_features=768, out_features=768, bias=True)\n",
       "        (W_V): Linear(in_features=768, out_features=768, bias=True)\n",
       "      )\n",
       "      (pos_ffn): PoswiseFeedForwardNet(\n",
       "        (fc1): Linear(in_features=768, out_features=3072, bias=True)\n",
       "        (fc2): Linear(in_features=3072, out_features=768, bias=True)\n",
       "      )\n",
       "    )\n",
       "    (5): EncoderLayer(\n",
       "      (enc_self_attn): MultiHeadAttention(\n",
       "        (W_Q): Linear(in_features=768, out_features=768, bias=True)\n",
       "        (W_K): Linear(in_features=768, out_features=768, bias=True)\n",
       "        (W_V): Linear(in_features=768, out_features=768, bias=True)\n",
       "      )\n",
       "      (pos_ffn): PoswiseFeedForwardNet(\n",
       "        (fc1): Linear(in_features=768, out_features=3072, bias=True)\n",
       "        (fc2): Linear(in_features=3072, out_features=768, bias=True)\n",
       "      )\n",
       "    )\n",
       "  )\n",
       "  (fc): Linear(in_features=768, out_features=768, bias=True)\n",
       "  (activ1): Tanh()\n",
       "  (linear): Linear(in_features=768, out_features=768, bias=True)\n",
       "  (norm): LayerNorm((768,), eps=1e-05, elementwise_affine=True)\n",
       "  (classifier): Linear(in_features=768, out_features=2, bias=True)\n",
       "  (decoder): Linear(in_features=768, out_features=29, bias=False)\n",
       ")"
      ]
     },
     "execution_count": 258,
     "metadata": {},
     "output_type": "execute_result"
    }
   ],
   "source": [
    "model"
   ]
  },
  {
   "cell_type": "code",
   "execution_count": null,
   "id": "dc587a0e",
   "metadata": {},
   "outputs": [],
   "source": []
  },
  {
   "cell_type": "code",
   "execution_count": 2,
   "id": "b9dca33d",
   "metadata": {},
   "outputs": [
    {
     "data": {
      "text/plain": [
       "135"
      ]
     },
     "execution_count": 2,
     "metadata": {},
     "output_type": "execute_result"
    }
   ],
   "source": [
    "135"
   ]
  },
  {
   "cell_type": "code",
   "execution_count": null,
   "id": "fc133ac4",
   "metadata": {},
   "outputs": [],
   "source": [
    "17+18"
   ]
  },
  {
   "cell_type": "code",
   "execution_count": null,
   "id": "f28582dd",
   "metadata": {},
   "outputs": [],
   "source": []
  },
  {
   "cell_type": "code",
   "execution_count": null,
   "id": "2ffbe815",
   "metadata": {},
   "outputs": [],
   "source": []
  }
 ],
 "metadata": {
  "kernelspec": {
   "display_name": "Python 3 (ipykernel)",
   "language": "python",
   "name": "python3"
  },
  "language_info": {
   "codemirror_mode": {
    "name": "ipython",
    "version": 3
   },
   "file_extension": ".py",
   "mimetype": "text/x-python",
   "name": "python",
   "nbconvert_exporter": "python",
   "pygments_lexer": "ipython3",
   "version": "3.9.7"
  }
 },
 "nbformat": 4,
 "nbformat_minor": 5
}
